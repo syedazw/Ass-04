{
 "cells": [
  {
   "cell_type": "markdown",
   "id": "0f3dc2d9-0d95-4fdf-a94f-3fea89bf94b2",
   "metadata": {},
   "source": [
    "Lists"
   ]
  },
  {
   "cell_type": "markdown",
   "id": "91602876-b702-4ed0-9ad7-e9f28bfb4fb8",
   "metadata": {},
   "source": [
    "Q1"
   ]
  },
  {
   "cell_type": "code",
   "execution_count": 57,
   "id": "152b915a-990d-401f-b666-0d49404fb6ce",
   "metadata": {},
   "outputs": [
    {
     "name": "stdout",
     "output_type": "stream",
     "text": [
      "Enter list:\n"
     ]
    },
    {
     "name": "stdin",
     "output_type": "stream",
     "text": [
      " 1\n",
      " apple\n",
      " 3\n",
      " 4\n",
      " wood\n"
     ]
    },
    {
     "name": "stdout",
     "output_type": "stream",
     "text": [
      "List is: ['1', 'apple', '3', '4', 'wood'] \n",
      "\n",
      "Alternate elements of the list:\n",
      "1,3,wood,"
     ]
    }
   ],
   "source": [
    "user_list = []\n",
    "\n",
    "# list from user\n",
    "print('Enter list:')\n",
    "\n",
    "for i in range(5):\n",
    "    data = str(input())\n",
    "    user_list.append(data)\n",
    "\n",
    "print(\"List is:\", user_list, end=\" \")\n",
    "\n",
    "# Print alternate elements\n",
    "print(\"\\n\\nAlternate elements of the list:\")\n",
    "for i in range(0, len(user_list), 2):\n",
    "    print(user_list[i], end=\",\")"
   ]
  },
  {
   "cell_type": "markdown",
   "id": "a6866fde-c5a8-417b-9f03-8f9aafbf425d",
   "metadata": {},
   "source": [
    "Q2"
   ]
  },
  {
   "cell_type": "code",
   "execution_count": 61,
   "id": "6e4142b6-72db-4855-b91d-23cc5fab8fdc",
   "metadata": {},
   "outputs": [
    {
     "name": "stdout",
     "output_type": "stream",
     "text": [
      "Enter list:\n"
     ]
    },
    {
     "name": "stdin",
     "output_type": "stream",
     "text": [
      " apple\n",
      " 3\n",
      " wood\n",
      " 4\n",
      " orange\n"
     ]
    },
    {
     "name": "stdout",
     "output_type": "stream",
     "text": [
      "List is: ['apple', '3', 'wood', '4', 'orange'] \n",
      "\n",
      "Reversed list:\n",
      "orange,wood,apple,"
     ]
    }
   ],
   "source": [
    "user_list = []\n",
    "\n",
    "# list from user\n",
    "print('Enter list:')\n",
    "\n",
    "for i in range(5):\n",
    "    data = str(input())\n",
    "    user_list.append(data)\n",
    "\n",
    "print(\"List is:\", user_list, end=\" \")\n",
    "\n",
    "# Reverse list without using reverse() \n",
    "reversed_list = []\n",
    "for i in range(len(user_list)-1,-1, -2):\n",
    "    reversed_list.append(user_list[i])\n",
    "\n",
    "# Display reversed list\n",
    "print(\"\\n\\nReversed list:\")\n",
    "for elements in reversed_list:\n",
    "    print(elements, end=\",\")"
   ]
  },
  {
   "cell_type": "markdown",
   "id": "05ba288c-22cf-4d85-b325-3cc93d00faa3",
   "metadata": {},
   "source": [
    "Q3"
   ]
  },
  {
   "cell_type": "code",
   "execution_count": 65,
   "id": "a75db862-0418-447c-a8ae-9a3160ef9930",
   "metadata": {},
   "outputs": [
    {
     "name": "stdout",
     "output_type": "stream",
     "text": [
      "Enter list:\n"
     ]
    },
    {
     "name": "stdin",
     "output_type": "stream",
     "text": [
      " 3\n",
      " 2\n",
      " 10\n",
      " 49\n",
      " 3\n"
     ]
    },
    {
     "name": "stdout",
     "output_type": "stream",
     "text": [
      "List is: [3, 2, 10, 49, 3] \n",
      "\n",
      "The largest number in list is 49\n"
     ]
    }
   ],
   "source": [
    "user_list = []\n",
    "\n",
    "# list from user\n",
    "print('Enter list:')\n",
    "\n",
    "for i in range(5):\n",
    "    data = int(input())\n",
    "    user_list.append(data)\n",
    "\n",
    "print(\"List is:\", user_list, end=\" \")\n",
    "\n",
    "max = 0\n",
    "for data in user_list:\n",
    "    if data > max:\n",
    "        max = data\n",
    "\n",
    "print('\\n\\nThe largest number in list is:', max)"
   ]
  },
  {
   "cell_type": "markdown",
   "id": "b740e3eb-3c05-4163-8b8a-495fedda2c02",
   "metadata": {},
   "source": [
    "Q4"
   ]
  },
  {
   "cell_type": "code",
   "execution_count": 74,
   "id": "2ab10e14-cc10-4b80-a121-955c809fbfef",
   "metadata": {},
   "outputs": [
    {
     "name": "stdout",
     "output_type": "stream",
     "text": [
      "Enter list:\n"
     ]
    },
    {
     "name": "stdin",
     "output_type": "stream",
     "text": [
      " 1\n",
      " 2\n",
      " 3\n",
      " 4\n",
      " 5\n"
     ]
    },
    {
     "name": "stdout",
     "output_type": "stream",
     "text": [
      "List is: ['1', '2', '3', '4', '5'] \n",
      "\n",
      "Rotated list:\n",
      "2 1 2 3 4 "
     ]
    }
   ],
   "source": [
    "user_list = []\n",
    "\n",
    "# list from user\n",
    "print('Enter list:')\n",
    "\n",
    "for i in range(5):\n",
    "    data = str(input())\n",
    "    user_list.append(data)\n",
    "\n",
    "print(\"List is:\", user_list, end=\" \")\n",
    "\n",
    "# Rotating the elements of the list\n",
    "rotated_list = [user_list[1]] + user_list[:-1]\n",
    "\n",
    "# Displaying the rotated list\n",
    "print(\"\\n\\nRotated list:\")\n",
    "for element in rotated_list:\n",
    "    print(element, end=\" \")"
   ]
  },
  {
   "cell_type": "markdown",
   "id": "59612170-4800-4621-9b3b-d77c0ed37f68",
   "metadata": {},
   "source": [
    "Q5"
   ]
  },
  {
   "cell_type": "code",
   "execution_count": 88,
   "id": "f5cf0887-38c7-4e10-80ca-2ad7ef4200e5",
   "metadata": {},
   "outputs": [
    {
     "name": "stdin",
     "output_type": "stream",
     "text": [
      "Enter a string:  I am Zainab\n",
      "Enter a word to delete:  am\n"
     ]
    },
    {
     "name": "stdout",
     "output_type": "stream",
     "text": [
      "String after deletion: I Zainab\n"
     ]
    }
   ],
   "source": [
    "# Input string from user\n",
    "input_text = str(input('Enter a string: '))\n",
    "words = input_text.split()\n",
    "\n",
    "# Input word to delete from the string\n",
    "delete_word = str(input('Enter a word to delete: '))\n",
    "status = False\n",
    "\n",
    "# Delete given word from the string\n",
    "for i in words:\n",
    "    if i == delete_word:\n",
    "        words.remove(i)\n",
    "        status = True\n",
    "\n",
    "# Displaying the result\n",
    "if status:\n",
    "    text = ' '.join(words)\n",
    "    print('String after deletion:',text)\n",
    "else:\n",
    "    print('Word not present in string.')"
   ]
  },
  {
   "cell_type": "markdown",
   "id": "aa4814f9-4d74-477e-8d9d-deeccb489a88",
   "metadata": {},
   "source": [
    "Q6"
   ]
  },
  {
   "cell_type": "code",
   "execution_count": 91,
   "id": "a7b56e07-e787-4b5b-a31d-3716861022ae",
   "metadata": {},
   "outputs": [
    {
     "name": "stdin",
     "output_type": "stream",
     "text": [
      "Enter a date in the form mm/dd/yyyy:  05/12/2020\n"
     ]
    },
    {
     "name": "stdout",
     "output_type": "stream",
     "text": [
      "Formatted date: May 12, 2020\n"
     ]
    }
   ],
   "source": [
    "from datetime import datetime\n",
    "\n",
    "# Read the date string from the user\n",
    "date_str = input(\"Enter a date in the form mm/dd/yyyy: \")\n",
    "\n",
    "# Parse the input date string\n",
    "date = datetime.strptime(date_str, \"%m/%d/%Y\")\n",
    "\n",
    "# Convert the date to the desired format\n",
    "formated_date = date.strftime(\"%B %d, %Y\")\n",
    "\n",
    "# Print the formatted date\n",
    "print(\"Formated date:\", formated_date)"
   ]
  },
  {
   "cell_type": "markdown",
   "id": "6ea497b0-7921-4ab2-8d3d-cd37c26f6b00",
   "metadata": {},
   "source": [
    "Q8"
   ]
  },
  {
   "cell_type": "code",
   "execution_count": 99,
   "id": "d6c2b771-30fc-445d-b41a-e00da95aa716",
   "metadata": {},
   "outputs": [
    {
     "name": "stdin",
     "output_type": "stream",
     "text": [
      "Enter the number of rows: 2\n",
      "Enter the number of columns: 2\n"
     ]
    },
    {
     "name": "stdout",
     "output_type": "stream",
     "text": [
      "Enter values in matrix:\n"
     ]
    },
    {
     "name": "stdin",
     "output_type": "stream",
     "text": [
      " 4\n",
      " 3\n",
      " 1\n",
      " 1\n"
     ]
    },
    {
     "name": "stdout",
     "output_type": "stream",
     "text": [
      "\n",
      "Matrix is:\n",
      "4 3 \n",
      "1 1 \n",
      "\n",
      "Sum of row 1 is = 7\n",
      "\n",
      "Sum of row 2 is = 2\n"
     ]
    }
   ],
   "source": [
    "n = int(input(\"Enter the number of rows:\"))\n",
    "m = int(input(\"Enter the number of columns:\"))\n",
    "matrix = [] \n",
    "\n",
    "print(\"Enter values in matrix:\") \n",
    "\n",
    "# For user input \n",
    "for i in range(n):\n",
    "    data =[] \n",
    "    for j in range(m):\n",
    "         data.append(int(input())) \n",
    "    matrix.append(data) \n",
    "\n",
    "# For printing the matrix \n",
    "print('\\nMatrix is:')\n",
    "for i in range(n): \n",
    "    for j in range(m): \n",
    "        print(matrix[i][j], end = \" \") \n",
    "    print()\n",
    "\n",
    "# For printing row wise sum \n",
    "for i in range(n):\n",
    "    sum = 0\n",
    "    for j in range(m): \n",
    "        sum = sum + matrix[i][j]\n",
    "    print('\\nSum of row',i+1,'is =',sum) "
   ]
  },
  {
   "cell_type": "markdown",
   "id": "d06b68e1-556d-40b7-af56-10b99c73d392",
   "metadata": {},
   "source": [
    "Q9"
   ]
  },
  {
   "cell_type": "code",
   "execution_count": 101,
   "id": "61b420cf-cfd3-4bd7-84d6-2d39c584e253",
   "metadata": {},
   "outputs": [
    {
     "name": "stdout",
     "output_type": "stream",
     "text": [
      "[10, 10, 10]\n",
      "[10, 10, 10]\n",
      "[10, 10, 10]\n"
     ]
    }
   ],
   "source": [
    "X = [[1,2,3],[4 ,5,6],[7 ,8,9]]\n",
    "Y = [[9,8,7],[6,5,4],[3,2,1]]\n",
    "result = [[0,0,0],[0,0,0],[0,0,0]]\n",
    "\n",
    "# iterate through rows\n",
    "for i in range(len(X)): \n",
    "    \n",
    "# iterate through columns\n",
    "\tfor j in range(len(X[0])):\n",
    "\t\tresult[i][j] = X[i][j] + Y[i][j]\n",
    "\n",
    "for r in result:\n",
    "\tprint(r)"
   ]
  },
  {
   "cell_type": "markdown",
   "id": "3a450eea-f6b7-43c8-8996-391e724f6f8e",
   "metadata": {},
   "source": [
    "Q10"
   ]
  },
  {
   "cell_type": "code",
   "execution_count": 102,
   "id": "a70c9933-6853-46f8-b271-a34391a03b3d",
   "metadata": {},
   "outputs": [
    {
     "name": "stdout",
     "output_type": "stream",
     "text": [
      "[9, 16, 21]\n",
      "[24, 25, 24]\n",
      "[21, 16, 9]\n"
     ]
    }
   ],
   "source": [
    "X = [[1,2,3],[4 ,5,6],[7 ,8,9]]\n",
    "Y = [[9,8,7],[6,5,4],[3,2,1]]\n",
    "result = [[0,0,0],[0,0,0],[0,0,0]]\n",
    "\n",
    "# iterate through rows\n",
    "for i in range(len(X)): \n",
    "    \n",
    "# iterate through columns\n",
    "\tfor j in range(len(X[0])):\n",
    "\t\tresult[i][j] = X[i][j] * Y[i][j]\n",
    "\n",
    "for r in result:\n",
    "\tprint(r)"
   ]
  },
  {
   "cell_type": "markdown",
   "id": "4e082355-c403-499b-9596-e657eaacabca",
   "metadata": {},
   "source": [
    "Loops"
   ]
  },
  {
   "cell_type": "markdown",
   "id": "3c6a07a2-ab1c-4498-888b-bb0e2fe888ef",
   "metadata": {},
   "source": [
    "Q1"
   ]
  },
  {
   "cell_type": "code",
   "execution_count": 104,
   "id": "00158160-c58e-40bb-8b7b-1a572821ac89",
   "metadata": {},
   "outputs": [
    {
     "name": "stdout",
     "output_type": "stream",
     "text": [
      "1,2,3,4,5,6,7,8,9,10,"
     ]
    }
   ],
   "source": [
    "for i in range(1, 11):\n",
    "    print(i, end=\",\")"
   ]
  },
  {
   "cell_type": "markdown",
   "id": "651a0488-c1a0-426d-b50b-8e72be5da626",
   "metadata": {},
   "source": [
    "Q2"
   ]
  },
  {
   "cell_type": "code",
   "execution_count": 107,
   "id": "5a614ca0-a500-45a0-938a-cf03a3a97e34",
   "metadata": {},
   "outputs": [
    {
     "name": "stdout",
     "output_type": "stream",
     "text": [
      "20,19,18,17,16,15,14,13,12,11,10,9,8,7,6,5,4,3,2,1,"
     ]
    }
   ],
   "source": [
    "# Initialize the starting number\n",
    "num = 20\n",
    "\n",
    "# Using a while loop to print numbers from 20 to 1\n",
    "while num >= 1:\n",
    "    print(num, end=\",\")\n",
    "    num -= 1"
   ]
  },
  {
   "cell_type": "markdown",
   "id": "01916a7d-7e13-4613-a591-6369890d5dd9",
   "metadata": {},
   "source": [
    "Q3"
   ]
  },
  {
   "cell_type": "code",
   "execution_count": 108,
   "id": "c1ea483b-d1e7-438b-b169-4ddae945e35f",
   "metadata": {},
   "outputs": [
    {
     "name": "stdout",
     "output_type": "stream",
     "text": [
      "Even numbers from 1 to 10:\n",
      "2 4 6 8 10 "
     ]
    }
   ],
   "source": [
    "# Using a for loop to print even numbers from 1 to 10\n",
    "print(\"Even numbers from 1 to 10:\")\n",
    "for i in range(2, 11, 2):\n",
    "    print(i, end=\" \")"
   ]
  },
  {
   "cell_type": "markdown",
   "id": "a0cd0afd-b109-42fb-b89d-1d39b8be818b",
   "metadata": {},
   "source": [
    "Q4"
   ]
  },
  {
   "cell_type": "code",
   "execution_count": 114,
   "id": "5479776c-cf88-4eeb-9100-f4146e4089c1",
   "metadata": {},
   "outputs": [
    {
     "name": "stdin",
     "output_type": "stream",
     "text": [
      "Enter a number (n):  10\n"
     ]
    },
    {
     "name": "stdout",
     "output_type": "stream",
     "text": [
      "Numbers from 1 to 10 is:\n",
      "1,2,3,4,5,6,7,8,9,10,"
     ]
    }
   ],
   "source": [
    "# Prompt the user to enter a number\n",
    "n = int(input(\"Enter a number (n): \"))\n",
    "\n",
    "# Using a for loop to print numbers from 1 to n\n",
    "print(\"Numbers from 1 to\", n, \"is:\")\n",
    "for i in range(1, n + 1):\n",
    "    print(i, end=\",\")"
   ]
  },
  {
   "cell_type": "markdown",
   "id": "64a7d391-6687-4825-a11e-c4c579fd831e",
   "metadata": {},
   "source": [
    "Q5"
   ]
  },
  {
   "cell_type": "code",
   "execution_count": 113,
   "id": "2f8064bc-0406-4898-8c95-9825a094ceb9",
   "metadata": {},
   "outputs": [
    {
     "name": "stdin",
     "output_type": "stream",
     "text": [
      "Enter a number (n):  10\n"
     ]
    },
    {
     "name": "stdout",
     "output_type": "stream",
     "text": [
      "Odd numbers between 1 and 10 is:\n",
      "1 3 5 7 9 "
     ]
    }
   ],
   "source": [
    "# Prompt the user to enter a number\n",
    "n = int(input(\"Enter a number (n): \"))\n",
    "\n",
    "# Using a for loop to print odd numbers from 1 to n\n",
    "print(\"Odd numbers between 1 and\", n, \"is:\")\n",
    "for i in range(1, n + 1, 2):\n",
    "    print(i, end=\" \")"
   ]
  },
  {
   "cell_type": "markdown",
   "id": "1a62c6ab-e9c2-4c10-8034-ffcf468cb619",
   "metadata": {},
   "source": [
    "Q6"
   ]
  },
  {
   "cell_type": "code",
   "execution_count": null,
   "id": "8fe9acb4-cfd8-4ecf-a550-d1aec3210a1d",
   "metadata": {},
   "outputs": [],
   "source": []
  },
  {
   "cell_type": "markdown",
   "id": "009d1148-d3f5-4a76-8dbb-ccabbc7ab9e5",
   "metadata": {},
   "source": [
    "Q7"
   ]
  },
  {
   "cell_type": "code",
   "execution_count": null,
   "id": "cb0f7cf3-4919-4dc8-ad6f-78d31b7951f4",
   "metadata": {},
   "outputs": [],
   "source": []
  }
 ],
 "metadata": {
  "kernelspec": {
   "display_name": "Python 3 (ipykernel)",
   "language": "python",
   "name": "python3"
  },
  "language_info": {
   "codemirror_mode": {
    "name": "ipython",
    "version": 3
   },
   "file_extension": ".py",
   "mimetype": "text/x-python",
   "name": "python",
   "nbconvert_exporter": "python",
   "pygments_lexer": "ipython3",
   "version": "3.11.7"
  }
 },
 "nbformat": 4,
 "nbformat_minor": 5
}
